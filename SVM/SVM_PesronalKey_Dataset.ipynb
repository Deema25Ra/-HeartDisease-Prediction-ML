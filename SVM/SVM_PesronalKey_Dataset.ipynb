{
 "cells": [
  {
   "cell_type": "markdown",
   "id": "66501c38-2ffa-4025-9a17-65b115733f91",
   "metadata": {
    "tags": []
   },
   "source": [
    "#### Impoorting the required libraries"
   ]
  },
  {
   "cell_type": "code",
   "execution_count": 13,
   "id": "ed82169d-a8c2-48d6-8bc4-2681db480a58",
   "metadata": {
    "tags": []
   },
   "outputs": [],
   "source": [
    "import numpy as np\n",
    "import pandas as pd\n",
    "import matplotlib.pyplot as plt\n",
    "import copy\n",
    "import math\n",
    "from sklearn.model_selection import train_test_split\n",
    "from sklearn.preprocessing import StandardScaler\n",
    "from sklearn.decomposition import PCA\n",
    "from sklearn.svm import SVC\n",
    "from sklearn.pipeline import make_pipeline\n",
    "from sklearn.metrics import accuracy_score, confusion_matrix\n",
    "from sklearn.decomposition import PCA as RandomizedPCA\n",
    "from sklearn.model_selection import GridSearchCV\n",
    "import seaborn as sns\n",
    "from sklearn.metrics import confusion_matrix, classification_report"
   ]
  },
  {
   "cell_type": "markdown",
   "id": "e36e8dfe-64a8-40fd-ae58-4bc14c884ef3",
   "metadata": {},
   "source": [
    "## Reading the dataset"
   ]
  },
  {
   "cell_type": "code",
   "execution_count": 14,
   "id": "814b9737-1769-4ae6-8820-2ea51e8368d8",
   "metadata": {
    "tags": []
   },
   "outputs": [
    {
     "data": {
      "text/plain": [
       "HeartDisease             0\n",
       "BMI                      0\n",
       "Smoking                  0\n",
       "AlcoholDrinking          0\n",
       "Stroke                   0\n",
       "PhysicalHealth           0\n",
       "MentalHealth             0\n",
       "DiffWalking              0\n",
       "Sex                      0\n",
       "AgeCategory              0\n",
       "Race                     0\n",
       "Diabetic                 0\n",
       "PhysicalActivity         0\n",
       "GenHealth                0\n",
       "SleepTime                0\n",
       "Asthma                   0\n",
       "KidneyDisease            0\n",
       "SkinCancer               0\n",
       "Unnamed: 18         319795\n",
       "Unnamed: 19         319795\n",
       "Unnamed: 20         319795\n",
       "Unnamed: 21         319795\n",
       "Unnamed: 22         319795\n",
       "Unnamed: 23         319795\n",
       "Unnamed: 24         319795\n",
       "Unnamed: 25         319795\n",
       "Unnamed: 26         319795\n",
       "Unnamed: 27         319795\n",
       "Unnamed: 28         319795\n",
       "Unnamed: 29         319795\n",
       "Unnamed: 30         319795\n",
       "Unnamed: 31         319795\n",
       "Unnamed: 32         319795\n",
       "Unnamed: 33         319795\n",
       "Unnamed: 34         319795\n",
       "Unnamed: 35         319795\n",
       "Unnamed: 36         319795\n",
       "Unnamed: 37         319795\n",
       "Unnamed: 38         319795\n",
       "Unnamed: 39         319795\n",
       "Unnamed: 40         319795\n",
       "Unnamed: 41         319795\n",
       "Unnamed: 42         319795\n",
       "Unnamed: 43         319795\n",
       "dtype: int64"
      ]
     },
     "execution_count": 14,
     "metadata": {},
     "output_type": "execute_result"
    }
   ],
   "source": [
    "df = pd.read_csv(\"heart_2020_cleaned.csv\")\n",
    "df.isnull().sum()\n"
   ]
  },
  {
   "cell_type": "code",
   "execution_count": 15,
   "id": "0013c0ce-302c-4c8e-82d6-758708859de8",
   "metadata": {
    "tags": []
   },
   "outputs": [
    {
     "name": "stdout",
     "output_type": "stream",
     "text": [
      "HeartDisease         object\n",
      "BMI                 float64\n",
      "Smoking              object\n",
      "AlcoholDrinking      object\n",
      "Stroke               object\n",
      "PhysicalHealth        int64\n",
      "MentalHealth          int64\n",
      "DiffWalking          object\n",
      "Sex                  object\n",
      "AgeCategory          object\n",
      "Race                 object\n",
      "Diabetic             object\n",
      "PhysicalActivity     object\n",
      "GenHealth            object\n",
      "SleepTime             int64\n",
      "Asthma               object\n",
      "KidneyDisease        object\n",
      "SkinCancer           object\n",
      "Unnamed: 18         float64\n",
      "Unnamed: 19         float64\n",
      "Unnamed: 20         float64\n",
      "Unnamed: 21         float64\n",
      "Unnamed: 22         float64\n",
      "Unnamed: 23         float64\n",
      "Unnamed: 24         float64\n",
      "Unnamed: 25         float64\n",
      "Unnamed: 26         float64\n",
      "Unnamed: 27         float64\n",
      "Unnamed: 28         float64\n",
      "Unnamed: 29         float64\n",
      "Unnamed: 30         float64\n",
      "Unnamed: 31         float64\n",
      "Unnamed: 32         float64\n",
      "Unnamed: 33         float64\n",
      "Unnamed: 34         float64\n",
      "Unnamed: 35         float64\n",
      "Unnamed: 36         float64\n",
      "Unnamed: 37         float64\n",
      "Unnamed: 38         float64\n",
      "Unnamed: 39         float64\n",
      "Unnamed: 40         float64\n",
      "Unnamed: 41         float64\n",
      "Unnamed: 42         float64\n",
      "Unnamed: 43         float64\n",
      "dtype: object\n"
     ]
    }
   ],
   "source": [
    "print(df.dtypes) #viewing the type of the attributes"
   ]
  },
  {
   "cell_type": "markdown",
   "id": "2d26bba3-3ff5-4cf0-920e-06a1a40a8d43",
   "metadata": {},
   "source": [
    "### Drop The null Values"
   ]
  },
  {
   "cell_type": "code",
   "execution_count": 17,
   "id": "d495d01b-d928-434d-8bf1-96deacf9543c",
   "metadata": {
    "tags": []
   },
   "outputs": [
    {
     "data": {
      "text/html": [
       "<div>\n",
       "<style scoped>\n",
       "    .dataframe tbody tr th:only-of-type {\n",
       "        vertical-align: middle;\n",
       "    }\n",
       "\n",
       "    .dataframe tbody tr th {\n",
       "        vertical-align: top;\n",
       "    }\n",
       "\n",
       "    .dataframe thead th {\n",
       "        text-align: right;\n",
       "    }\n",
       "</style>\n",
       "<table border=\"1\" class=\"dataframe\">\n",
       "  <thead>\n",
       "    <tr style=\"text-align: right;\">\n",
       "      <th></th>\n",
       "      <th>HeartDisease</th>\n",
       "      <th>BMI</th>\n",
       "      <th>Smoking</th>\n",
       "      <th>AlcoholDrinking</th>\n",
       "      <th>Stroke</th>\n",
       "      <th>PhysicalHealth</th>\n",
       "      <th>MentalHealth</th>\n",
       "      <th>DiffWalking</th>\n",
       "      <th>Sex</th>\n",
       "      <th>AgeCategory</th>\n",
       "      <th>Race</th>\n",
       "      <th>Diabetic</th>\n",
       "      <th>PhysicalActivity</th>\n",
       "      <th>GenHealth</th>\n",
       "      <th>SleepTime</th>\n",
       "      <th>Asthma</th>\n",
       "      <th>KidneyDisease</th>\n",
       "      <th>SkinCancer</th>\n",
       "    </tr>\n",
       "  </thead>\n",
       "  <tbody>\n",
       "    <tr>\n",
       "      <th>0</th>\n",
       "      <td>No</td>\n",
       "      <td>16.60</td>\n",
       "      <td>Yes</td>\n",
       "      <td>No</td>\n",
       "      <td>No</td>\n",
       "      <td>3</td>\n",
       "      <td>30</td>\n",
       "      <td>No</td>\n",
       "      <td>Female</td>\n",
       "      <td>55-59</td>\n",
       "      <td>White</td>\n",
       "      <td>Yes</td>\n",
       "      <td>Yes</td>\n",
       "      <td>Very good</td>\n",
       "      <td>5</td>\n",
       "      <td>Yes</td>\n",
       "      <td>No</td>\n",
       "      <td>Yes</td>\n",
       "    </tr>\n",
       "    <tr>\n",
       "      <th>1</th>\n",
       "      <td>No</td>\n",
       "      <td>20.34</td>\n",
       "      <td>No</td>\n",
       "      <td>No</td>\n",
       "      <td>Yes</td>\n",
       "      <td>0</td>\n",
       "      <td>0</td>\n",
       "      <td>No</td>\n",
       "      <td>Female</td>\n",
       "      <td>80 or older</td>\n",
       "      <td>White</td>\n",
       "      <td>No</td>\n",
       "      <td>Yes</td>\n",
       "      <td>Very good</td>\n",
       "      <td>7</td>\n",
       "      <td>No</td>\n",
       "      <td>No</td>\n",
       "      <td>No</td>\n",
       "    </tr>\n",
       "    <tr>\n",
       "      <th>2</th>\n",
       "      <td>No</td>\n",
       "      <td>26.58</td>\n",
       "      <td>Yes</td>\n",
       "      <td>No</td>\n",
       "      <td>No</td>\n",
       "      <td>20</td>\n",
       "      <td>30</td>\n",
       "      <td>No</td>\n",
       "      <td>Male</td>\n",
       "      <td>65-69</td>\n",
       "      <td>White</td>\n",
       "      <td>Yes</td>\n",
       "      <td>Yes</td>\n",
       "      <td>Fair</td>\n",
       "      <td>8</td>\n",
       "      <td>Yes</td>\n",
       "      <td>No</td>\n",
       "      <td>No</td>\n",
       "    </tr>\n",
       "    <tr>\n",
       "      <th>3</th>\n",
       "      <td>No</td>\n",
       "      <td>24.21</td>\n",
       "      <td>No</td>\n",
       "      <td>No</td>\n",
       "      <td>No</td>\n",
       "      <td>0</td>\n",
       "      <td>0</td>\n",
       "      <td>No</td>\n",
       "      <td>Female</td>\n",
       "      <td>75-79</td>\n",
       "      <td>White</td>\n",
       "      <td>No</td>\n",
       "      <td>No</td>\n",
       "      <td>Good</td>\n",
       "      <td>6</td>\n",
       "      <td>No</td>\n",
       "      <td>No</td>\n",
       "      <td>Yes</td>\n",
       "    </tr>\n",
       "    <tr>\n",
       "      <th>4</th>\n",
       "      <td>No</td>\n",
       "      <td>23.71</td>\n",
       "      <td>No</td>\n",
       "      <td>No</td>\n",
       "      <td>No</td>\n",
       "      <td>28</td>\n",
       "      <td>0</td>\n",
       "      <td>Yes</td>\n",
       "      <td>Female</td>\n",
       "      <td>40-44</td>\n",
       "      <td>White</td>\n",
       "      <td>No</td>\n",
       "      <td>Yes</td>\n",
       "      <td>Very good</td>\n",
       "      <td>8</td>\n",
       "      <td>No</td>\n",
       "      <td>No</td>\n",
       "      <td>No</td>\n",
       "    </tr>\n",
       "  </tbody>\n",
       "</table>\n",
       "</div>"
      ],
      "text/plain": [
       "  HeartDisease    BMI Smoking AlcoholDrinking Stroke  PhysicalHealth  \\\n",
       "0           No  16.60     Yes              No     No               3   \n",
       "1           No  20.34      No              No    Yes               0   \n",
       "2           No  26.58     Yes              No     No              20   \n",
       "3           No  24.21      No              No     No               0   \n",
       "4           No  23.71      No              No     No              28   \n",
       "\n",
       "   MentalHealth DiffWalking     Sex  AgeCategory   Race Diabetic  \\\n",
       "0            30          No  Female        55-59  White      Yes   \n",
       "1             0          No  Female  80 or older  White       No   \n",
       "2            30          No    Male        65-69  White      Yes   \n",
       "3             0          No  Female        75-79  White       No   \n",
       "4             0         Yes  Female        40-44  White       No   \n",
       "\n",
       "  PhysicalActivity  GenHealth  SleepTime Asthma KidneyDisease SkinCancer  \n",
       "0              Yes  Very good          5    Yes            No        Yes  \n",
       "1              Yes  Very good          7     No            No         No  \n",
       "2              Yes       Fair          8    Yes            No         No  \n",
       "3               No       Good          6     No            No        Yes  \n",
       "4              Yes  Very good          8     No            No         No  "
      ]
     },
     "execution_count": 17,
     "metadata": {},
     "output_type": "execute_result"
    }
   ],
   "source": [
    "df = df.drop(df.columns[18:44], axis=1)\n",
    "df.head()"
   ]
  },
  {
   "cell_type": "markdown",
   "id": "b6eb52e4-a7f2-479c-8fba-031d28995d2d",
   "metadata": {},
   "source": [
    "## 1-Preprocessing"
   ]
  },
  {
   "cell_type": "code",
   "execution_count": 18,
   "id": "45d649db-6ac1-4842-a51e-174d3d5d5f16",
   "metadata": {
    "tags": []
   },
   "outputs": [],
   "source": [
    "#encoding ('Yes','No') to (1,0)\n",
    "df.replace({'Yes':1,'No':0}, inplace=True)\n",
    "#encoding ('Female','Male') to (1,0)\n",
    "df.replace({'Female':1,'Male':0}, inplace=True)"
   ]
  },
  {
   "cell_type": "code",
   "execution_count": 19,
   "id": "17ed6741-b5b7-4469-a6b9-b13a9aa32758",
   "metadata": {
    "tags": []
   },
   "outputs": [],
   "source": [
    "#encoding ('Excellent','Very good' ,'Good','Poor') to (4,3,2,1)\n",
    "df['GenHealth'].unique()\n",
    "df.replace({'Excellent':4,'Very good':3,'Good':2,'Fair':1,'Poor':0}, inplace=True)"
   ]
  },
  {
   "cell_type": "code",
   "execution_count": 20,
   "id": "42e86a27-39c1-4410-b5f4-098bceee343f",
   "metadata": {
    "tags": []
   },
   "outputs": [
    {
     "data": {
      "text/plain": [
       "array(['55-59', '80 or older', '65-69', '75-79', '40-44', '70-74',\n",
       "       '60-64', '50-54', '45-49', '18-24', '35-39', '30-34', '25-29'],\n",
       "      dtype=object)"
      ]
     },
     "execution_count": 20,
     "metadata": {},
     "output_type": "execute_result"
    }
   ],
   "source": [
    "df['AgeCategory'].unique()"
   ]
  },
  {
   "cell_type": "code",
   "execution_count": 21,
   "id": "6d5591b6-32a0-4ea7-9033-e4c2ae333ef6",
   "metadata": {
    "tags": []
   },
   "outputs": [],
   "source": [
    "#mapping \n",
    "age_mapping = {\n",
    "   '18-24': 1,\n",
    "    '25-29': 2,\n",
    "    '30-34': 3,\n",
    "    '35-39': 4,\n",
    "    '40-44': 5,\n",
    "    '45-49': 6,\n",
    "    '50-54': 7,\n",
    "    '55-59': 8,\n",
    "    '60-64': 9,\n",
    "    '65-69': 10,\n",
    "    '70-74': 11,\n",
    "    '75-79': 12,\n",
    "    '80 or older': 13\n",
    "}\n",
    "\n",
    "df['AgeCategory'].replace(age_mapping, inplace=True)"
   ]
  },
  {
   "cell_type": "code",
   "execution_count": 22,
   "id": "97575f24-32b9-4206-ba89-bacaebafdc9f",
   "metadata": {
    "tags": []
   },
   "outputs": [
    {
     "name": "stdout",
     "output_type": "stream",
     "text": [
      "HeartDisease                             int64\n",
      "BMI                                    float64\n",
      "Smoking                                  int64\n",
      "AlcoholDrinking                          int64\n",
      "Stroke                                   int64\n",
      "PhysicalHealth                           int64\n",
      "MentalHealth                             int64\n",
      "DiffWalking                              int64\n",
      "Sex                                      int64\n",
      "AgeCategory                              int64\n",
      "PhysicalActivity                         int64\n",
      "GenHealth                                int64\n",
      "SleepTime                                int64\n",
      "Asthma                                   int64\n",
      "KidneyDisease                            int64\n",
      "SkinCancer                               int64\n",
      "Race_American Indian/Alaskan Native       bool\n",
      "Race_Asian                                bool\n",
      "Race_Black                                bool\n",
      "Race_Hispanic                             bool\n",
      "Race_Other                                bool\n",
      "Race_White                                bool\n",
      "Diabetic_0                                bool\n",
      "Diabetic_1                                bool\n",
      "Diabetic_No, borderline diabetes          bool\n",
      "Diabetic_Yes (during pregnancy)           bool\n",
      "dtype: object\n"
     ]
    }
   ],
   "source": [
    "df = pd.get_dummies(df, columns=[\"Race\"], prefix=[\"Race\"])\n",
    "df = pd.get_dummies(df, columns=[\"Diabetic\"], prefix=[\"Diabetic\"])\n",
    "\n",
    "print(df.dtypes)"
   ]
  },
  {
   "cell_type": "code",
   "execution_count": 23,
   "id": "6290ee74-e210-43f6-b03b-f787209eadd2",
   "metadata": {
    "tags": []
   },
   "outputs": [],
   "source": [
    "df.to_csv('New_Presonal_Key.csv', index=False)"
   ]
  },
  {
   "cell_type": "code",
   "execution_count": 9,
   "id": "f7b01ce2-687b-4ce5-8c68-020fcc553fd2",
   "metadata": {
    "tags": []
   },
   "outputs": [],
   "source": [
    "#defining the X fetures and y Label \n",
    "X = df.drop([\"HeartDisease\"], axis=1).values\n",
    "y = df[\"HeartDisease\"].values"
   ]
  },
  {
   "cell_type": "markdown",
   "id": "254501d3-1bce-497b-b1c6-e7059cbbecfa",
   "metadata": {},
   "source": [
    "## Creating The Moodel"
   ]
  },
  {
   "cell_type": "code",
   "execution_count": 10,
   "id": "1b387362-a2e4-4308-8273-b2f052463feb",
   "metadata": {
    "tags": []
   },
   "outputs": [],
   "source": [
    "# splitting the dataset\n",
    "X_train, X_test, y_train, y_test = train_test_split(X, y, test_size=0.2, random_state=42)"
   ]
  },
  {
   "cell_type": "code",
   "execution_count": 11,
   "id": "dbd40286-bfd6-4409-8218-c79c87f9be18",
   "metadata": {
    "tags": []
   },
   "outputs": [],
   "source": [
    "#Stardarizing the values\n",
    "scaler = StandardScaler()\n",
    "X_train = scaler.fit_transform(X_train)\n",
    "X_test = scaler.transform(X_test)"
   ]
  },
  {
   "cell_type": "code",
   "execution_count": 27,
   "id": "1684e5cf-154f-44a2-bba5-7e58c63f9502",
   "metadata": {
    "tags": []
   },
   "outputs": [
    {
     "name": "stdout",
     "output_type": "stream",
     "text": [
      "Fitting 2 folds for each of 9 candidates, totalling 18 fits\n",
      "[CV] END ........................svc__C=1, svc__gamma=0.0005; total time=18.1min\n",
      "[CV] END ........................svc__C=1, svc__gamma=0.0005; total time=18.4min\n",
      "[CV] END .........................svc__C=1, svc__gamma=0.001; total time=15.8min\n",
      "[CV] END .........................svc__C=1, svc__gamma=0.001; total time=11.3min\n",
      "[CV] END .........................svc__C=1, svc__gamma=0.005; total time= 9.8min\n",
      "[CV] END .........................svc__C=1, svc__gamma=0.005; total time= 9.0min\n",
      "[CV] END ........................svc__C=5, svc__gamma=0.0005; total time= 9.5min\n",
      "[CV] END ........................svc__C=5, svc__gamma=0.0005; total time=10.0min\n",
      "[CV] END .........................svc__C=5, svc__gamma=0.001; total time= 9.3min\n",
      "[CV] END .........................svc__C=5, svc__gamma=0.001; total time= 9.4min\n",
      "[CV] END .........................svc__C=5, svc__gamma=0.005; total time= 9.1min\n",
      "[CV] END .........................svc__C=5, svc__gamma=0.005; total time= 8.8min\n",
      "[CV] END .......................svc__C=10, svc__gamma=0.0005; total time= 9.8min\n",
      "[CV] END .......................svc__C=10, svc__gamma=0.0005; total time= 9.4min\n",
      "[CV] END ........................svc__C=10, svc__gamma=0.001; total time= 9.4min\n",
      "[CV] END ........................svc__C=10, svc__gamma=0.001; total time= 9.8min\n",
      "[CV] END ........................svc__C=10, svc__gamma=0.005; total time= 9.1min\n",
      "[CV] END ........................svc__C=10, svc__gamma=0.005; total time= 9.5min\n",
      "CPU times: user 3h 44min 57s, sys: 2min 25s, total: 3h 47min 22s\n",
      "Wall time: 3h 50min 7s\n"
     ]
    },
    {
     "data": {
      "text/html": [
       "<style>#sk-container-id-1 {color: black;}#sk-container-id-1 pre{padding: 0;}#sk-container-id-1 div.sk-toggleable {background-color: white;}#sk-container-id-1 label.sk-toggleable__label {cursor: pointer;display: block;width: 100%;margin-bottom: 0;padding: 0.3em;box-sizing: border-box;text-align: center;}#sk-container-id-1 label.sk-toggleable__label-arrow:before {content: \"▸\";float: left;margin-right: 0.25em;color: #696969;}#sk-container-id-1 label.sk-toggleable__label-arrow:hover:before {color: black;}#sk-container-id-1 div.sk-estimator:hover label.sk-toggleable__label-arrow:before {color: black;}#sk-container-id-1 div.sk-toggleable__content {max-height: 0;max-width: 0;overflow: hidden;text-align: left;background-color: #f0f8ff;}#sk-container-id-1 div.sk-toggleable__content pre {margin: 0.2em;color: black;border-radius: 0.25em;background-color: #f0f8ff;}#sk-container-id-1 input.sk-toggleable__control:checked~div.sk-toggleable__content {max-height: 200px;max-width: 100%;overflow: auto;}#sk-container-id-1 input.sk-toggleable__control:checked~label.sk-toggleable__label-arrow:before {content: \"▾\";}#sk-container-id-1 div.sk-estimator input.sk-toggleable__control:checked~label.sk-toggleable__label {background-color: #d4ebff;}#sk-container-id-1 div.sk-label input.sk-toggleable__control:checked~label.sk-toggleable__label {background-color: #d4ebff;}#sk-container-id-1 input.sk-hidden--visually {border: 0;clip: rect(1px 1px 1px 1px);clip: rect(1px, 1px, 1px, 1px);height: 1px;margin: -1px;overflow: hidden;padding: 0;position: absolute;width: 1px;}#sk-container-id-1 div.sk-estimator {font-family: monospace;background-color: #f0f8ff;border: 1px dotted black;border-radius: 0.25em;box-sizing: border-box;margin-bottom: 0.5em;}#sk-container-id-1 div.sk-estimator:hover {background-color: #d4ebff;}#sk-container-id-1 div.sk-parallel-item::after {content: \"\";width: 100%;border-bottom: 1px solid gray;flex-grow: 1;}#sk-container-id-1 div.sk-label:hover label.sk-toggleable__label {background-color: #d4ebff;}#sk-container-id-1 div.sk-serial::before {content: \"\";position: absolute;border-left: 1px solid gray;box-sizing: border-box;top: 0;bottom: 0;left: 50%;z-index: 0;}#sk-container-id-1 div.sk-serial {display: flex;flex-direction: column;align-items: center;background-color: white;padding-right: 0.2em;padding-left: 0.2em;position: relative;}#sk-container-id-1 div.sk-item {position: relative;z-index: 1;}#sk-container-id-1 div.sk-parallel {display: flex;align-items: stretch;justify-content: center;background-color: white;position: relative;}#sk-container-id-1 div.sk-item::before, #sk-container-id-1 div.sk-parallel-item::before {content: \"\";position: absolute;border-left: 1px solid gray;box-sizing: border-box;top: 0;bottom: 0;left: 50%;z-index: -1;}#sk-container-id-1 div.sk-parallel-item {display: flex;flex-direction: column;z-index: 1;position: relative;background-color: white;}#sk-container-id-1 div.sk-parallel-item:first-child::after {align-self: flex-end;width: 50%;}#sk-container-id-1 div.sk-parallel-item:last-child::after {align-self: flex-start;width: 50%;}#sk-container-id-1 div.sk-parallel-item:only-child::after {width: 0;}#sk-container-id-1 div.sk-dashed-wrapped {border: 1px dashed gray;margin: 0 0.4em 0.5em 0.4em;box-sizing: border-box;padding-bottom: 0.4em;background-color: white;}#sk-container-id-1 div.sk-label label {font-family: monospace;font-weight: bold;display: inline-block;line-height: 1.2em;}#sk-container-id-1 div.sk-label-container {text-align: center;}#sk-container-id-1 div.sk-container {/* jupyter's `normalize.less` sets `[hidden] { display: none; }` but bootstrap.min.css set `[hidden] { display: none !important; }` so we also need the `!important` here to be able to override the default hidden behavior on the sphinx rendered scikit-learn.org. See: https://github.com/scikit-learn/scikit-learn/issues/21755 */display: inline-block !important;position: relative;}#sk-container-id-1 div.sk-text-repr-fallback {display: none;}</style><div id=\"sk-container-id-1\" class=\"sk-top-container\"><div class=\"sk-text-repr-fallback\"><pre>GridSearchCV(cv=2,\n",
       "             estimator=Pipeline(steps=[(&#x27;pca&#x27;,\n",
       "                                        PCA(n_components=0.9, random_state=42,\n",
       "                                            whiten=True)),\n",
       "                                       (&#x27;svc&#x27;, SVC(class_weight=&#x27;balanced&#x27;))]),\n",
       "             param_grid={&#x27;svc__C&#x27;: [1, 5, 10],\n",
       "                         &#x27;svc__gamma&#x27;: [0.0005, 0.001, 0.005]},\n",
       "             verbose=2)</pre><b>In a Jupyter environment, please rerun this cell to show the HTML representation or trust the notebook. <br />On GitHub, the HTML representation is unable to render, please try loading this page with nbviewer.org.</b></div><div class=\"sk-container\" hidden><div class=\"sk-item sk-dashed-wrapped\"><div class=\"sk-label-container\"><div class=\"sk-label sk-toggleable\"><input class=\"sk-toggleable__control sk-hidden--visually\" id=\"sk-estimator-id-1\" type=\"checkbox\" ><label for=\"sk-estimator-id-1\" class=\"sk-toggleable__label sk-toggleable__label-arrow\">GridSearchCV</label><div class=\"sk-toggleable__content\"><pre>GridSearchCV(cv=2,\n",
       "             estimator=Pipeline(steps=[(&#x27;pca&#x27;,\n",
       "                                        PCA(n_components=0.9, random_state=42,\n",
       "                                            whiten=True)),\n",
       "                                       (&#x27;svc&#x27;, SVC(class_weight=&#x27;balanced&#x27;))]),\n",
       "             param_grid={&#x27;svc__C&#x27;: [1, 5, 10],\n",
       "                         &#x27;svc__gamma&#x27;: [0.0005, 0.001, 0.005]},\n",
       "             verbose=2)</pre></div></div></div><div class=\"sk-parallel\"><div class=\"sk-parallel-item\"><div class=\"sk-item\"><div class=\"sk-label-container\"><div class=\"sk-label sk-toggleable\"><input class=\"sk-toggleable__control sk-hidden--visually\" id=\"sk-estimator-id-2\" type=\"checkbox\" ><label for=\"sk-estimator-id-2\" class=\"sk-toggleable__label sk-toggleable__label-arrow\">estimator: Pipeline</label><div class=\"sk-toggleable__content\"><pre>Pipeline(steps=[(&#x27;pca&#x27;, PCA(n_components=0.9, random_state=42, whiten=True)),\n",
       "                (&#x27;svc&#x27;, SVC(class_weight=&#x27;balanced&#x27;))])</pre></div></div></div><div class=\"sk-serial\"><div class=\"sk-item\"><div class=\"sk-serial\"><div class=\"sk-item\"><div class=\"sk-estimator sk-toggleable\"><input class=\"sk-toggleable__control sk-hidden--visually\" id=\"sk-estimator-id-3\" type=\"checkbox\" ><label for=\"sk-estimator-id-3\" class=\"sk-toggleable__label sk-toggleable__label-arrow\">PCA</label><div class=\"sk-toggleable__content\"><pre>PCA(n_components=0.9, random_state=42, whiten=True)</pre></div></div></div><div class=\"sk-item\"><div class=\"sk-estimator sk-toggleable\"><input class=\"sk-toggleable__control sk-hidden--visually\" id=\"sk-estimator-id-4\" type=\"checkbox\" ><label for=\"sk-estimator-id-4\" class=\"sk-toggleable__label sk-toggleable__label-arrow\">SVC</label><div class=\"sk-toggleable__content\"><pre>SVC(class_weight=&#x27;balanced&#x27;)</pre></div></div></div></div></div></div></div></div></div></div></div></div>"
      ],
      "text/plain": [
       "GridSearchCV(cv=2,\n",
       "             estimator=Pipeline(steps=[('pca',\n",
       "                                        PCA(n_components=0.9, random_state=42,\n",
       "                                            whiten=True)),\n",
       "                                       ('svc', SVC(class_weight='balanced'))]),\n",
       "             param_grid={'svc__C': [1, 5, 10],\n",
       "                         'svc__gamma': [0.0005, 0.001, 0.005]},\n",
       "             verbose=2)"
      ]
     },
     "execution_count": 27,
     "metadata": {},
     "output_type": "execute_result"
    }
   ],
   "source": [
    "# Creating and Tuning the SVM Model with Grid Search\n",
    "# Define a parameter grid for hyperparameter tuning\n",
    "\n",
    "param_grid = {'svc__C': [1, 5, 10],\n",
    "              'svc__gamma': [0.0005, 0.001, 0.005]}\n",
    "\n",
    "# Apply Principal Component Analysis (PCA) for feature reduction\n",
    "# Retain 90% of the variance, whiten the data, and set a random seed for reproducibility\n",
    "pca = RandomizedPCA(n_components=0.9, whiten=True, random_state=42)\n",
    "\n",
    "# Use balanced class weights to handle imbalanced datasets\n",
    "svm = SVC(kernel='rbf', class_weight='balanced')\n",
    "# Create a pipeline with PCA and SVM\n",
    "model = make_pipeline(pca, svm)\n",
    "\n",
    "# Set up a grid search for hyperparameter tuning\n",
    "# Use cross-validation with 2 folds and print verbose information\n",
    "grid = GridSearchCV(model, param_grid, cv=2, verbose=2)\n",
    "\n",
    "# Measure the time it takes to perform grid search and model fitting\n",
    "%time grid.fit(X_train, y_train)"
   ]
  },
  {
   "cell_type": "code",
   "execution_count": 28,
   "id": "6bb789dd-1a23-48a5-88aa-5fb55c232dd9",
   "metadata": {
    "tags": []
   },
   "outputs": [
    {
     "name": "stdout",
     "output_type": "stream",
     "text": [
      "Best Parameters: {'svc__C': 1, 'svc__gamma': 0.0005}\n"
     ]
    }
   ],
   "source": [
    "# Print the best parameters\n",
    "print(\"Best Parameters:\", grid.best_params_)"
   ]
  },
  {
   "cell_type": "code",
   "execution_count": 32,
   "id": "1564a412-569c-4726-8b08-5d8c76bfee04",
   "metadata": {
    "tags": []
   },
   "outputs": [
    {
     "data": {
      "text/html": [
       "<style>#sk-container-id-2 {color: black;}#sk-container-id-2 pre{padding: 0;}#sk-container-id-2 div.sk-toggleable {background-color: white;}#sk-container-id-2 label.sk-toggleable__label {cursor: pointer;display: block;width: 100%;margin-bottom: 0;padding: 0.3em;box-sizing: border-box;text-align: center;}#sk-container-id-2 label.sk-toggleable__label-arrow:before {content: \"▸\";float: left;margin-right: 0.25em;color: #696969;}#sk-container-id-2 label.sk-toggleable__label-arrow:hover:before {color: black;}#sk-container-id-2 div.sk-estimator:hover label.sk-toggleable__label-arrow:before {color: black;}#sk-container-id-2 div.sk-toggleable__content {max-height: 0;max-width: 0;overflow: hidden;text-align: left;background-color: #f0f8ff;}#sk-container-id-2 div.sk-toggleable__content pre {margin: 0.2em;color: black;border-radius: 0.25em;background-color: #f0f8ff;}#sk-container-id-2 input.sk-toggleable__control:checked~div.sk-toggleable__content {max-height: 200px;max-width: 100%;overflow: auto;}#sk-container-id-2 input.sk-toggleable__control:checked~label.sk-toggleable__label-arrow:before {content: \"▾\";}#sk-container-id-2 div.sk-estimator input.sk-toggleable__control:checked~label.sk-toggleable__label {background-color: #d4ebff;}#sk-container-id-2 div.sk-label input.sk-toggleable__control:checked~label.sk-toggleable__label {background-color: #d4ebff;}#sk-container-id-2 input.sk-hidden--visually {border: 0;clip: rect(1px 1px 1px 1px);clip: rect(1px, 1px, 1px, 1px);height: 1px;margin: -1px;overflow: hidden;padding: 0;position: absolute;width: 1px;}#sk-container-id-2 div.sk-estimator {font-family: monospace;background-color: #f0f8ff;border: 1px dotted black;border-radius: 0.25em;box-sizing: border-box;margin-bottom: 0.5em;}#sk-container-id-2 div.sk-estimator:hover {background-color: #d4ebff;}#sk-container-id-2 div.sk-parallel-item::after {content: \"\";width: 100%;border-bottom: 1px solid gray;flex-grow: 1;}#sk-container-id-2 div.sk-label:hover label.sk-toggleable__label {background-color: #d4ebff;}#sk-container-id-2 div.sk-serial::before {content: \"\";position: absolute;border-left: 1px solid gray;box-sizing: border-box;top: 0;bottom: 0;left: 50%;z-index: 0;}#sk-container-id-2 div.sk-serial {display: flex;flex-direction: column;align-items: center;background-color: white;padding-right: 0.2em;padding-left: 0.2em;position: relative;}#sk-container-id-2 div.sk-item {position: relative;z-index: 1;}#sk-container-id-2 div.sk-parallel {display: flex;align-items: stretch;justify-content: center;background-color: white;position: relative;}#sk-container-id-2 div.sk-item::before, #sk-container-id-2 div.sk-parallel-item::before {content: \"\";position: absolute;border-left: 1px solid gray;box-sizing: border-box;top: 0;bottom: 0;left: 50%;z-index: -1;}#sk-container-id-2 div.sk-parallel-item {display: flex;flex-direction: column;z-index: 1;position: relative;background-color: white;}#sk-container-id-2 div.sk-parallel-item:first-child::after {align-self: flex-end;width: 50%;}#sk-container-id-2 div.sk-parallel-item:last-child::after {align-self: flex-start;width: 50%;}#sk-container-id-2 div.sk-parallel-item:only-child::after {width: 0;}#sk-container-id-2 div.sk-dashed-wrapped {border: 1px dashed gray;margin: 0 0.4em 0.5em 0.4em;box-sizing: border-box;padding-bottom: 0.4em;background-color: white;}#sk-container-id-2 div.sk-label label {font-family: monospace;font-weight: bold;display: inline-block;line-height: 1.2em;}#sk-container-id-2 div.sk-label-container {text-align: center;}#sk-container-id-2 div.sk-container {/* jupyter's `normalize.less` sets `[hidden] { display: none; }` but bootstrap.min.css set `[hidden] { display: none !important; }` so we also need the `!important` here to be able to override the default hidden behavior on the sphinx rendered scikit-learn.org. See: https://github.com/scikit-learn/scikit-learn/issues/21755 */display: inline-block !important;position: relative;}#sk-container-id-2 div.sk-text-repr-fallback {display: none;}</style><div id=\"sk-container-id-2\" class=\"sk-top-container\"><div class=\"sk-text-repr-fallback\"><pre>Pipeline(steps=[(&#x27;pca&#x27;, PCA(n_components=0.9)),\n",
       "                (&#x27;svc&#x27;, SVC(C=1, class_weight=&#x27;balanced&#x27;, gamma=0.0005))])</pre><b>In a Jupyter environment, please rerun this cell to show the HTML representation or trust the notebook. <br />On GitHub, the HTML representation is unable to render, please try loading this page with nbviewer.org.</b></div><div class=\"sk-container\" hidden><div class=\"sk-item sk-dashed-wrapped\"><div class=\"sk-label-container\"><div class=\"sk-label sk-toggleable\"><input class=\"sk-toggleable__control sk-hidden--visually\" id=\"sk-estimator-id-5\" type=\"checkbox\" ><label for=\"sk-estimator-id-5\" class=\"sk-toggleable__label sk-toggleable__label-arrow\">Pipeline</label><div class=\"sk-toggleable__content\"><pre>Pipeline(steps=[(&#x27;pca&#x27;, PCA(n_components=0.9)),\n",
       "                (&#x27;svc&#x27;, SVC(C=1, class_weight=&#x27;balanced&#x27;, gamma=0.0005))])</pre></div></div></div><div class=\"sk-serial\"><div class=\"sk-item\"><div class=\"sk-estimator sk-toggleable\"><input class=\"sk-toggleable__control sk-hidden--visually\" id=\"sk-estimator-id-6\" type=\"checkbox\" ><label for=\"sk-estimator-id-6\" class=\"sk-toggleable__label sk-toggleable__label-arrow\">PCA</label><div class=\"sk-toggleable__content\"><pre>PCA(n_components=0.9)</pre></div></div></div><div class=\"sk-item\"><div class=\"sk-estimator sk-toggleable\"><input class=\"sk-toggleable__control sk-hidden--visually\" id=\"sk-estimator-id-7\" type=\"checkbox\" ><label for=\"sk-estimator-id-7\" class=\"sk-toggleable__label sk-toggleable__label-arrow\">SVC</label><div class=\"sk-toggleable__content\"><pre>SVC(C=1, class_weight=&#x27;balanced&#x27;, gamma=0.0005)</pre></div></div></div></div></div></div></div>"
      ],
      "text/plain": [
       "Pipeline(steps=[('pca', PCA(n_components=0.9)),\n",
       "                ('svc', SVC(C=1, class_weight='balanced', gamma=0.0005))])"
      ]
     },
     "execution_count": 32,
     "metadata": {},
     "output_type": "execute_result"
    }
   ],
   "source": [
    "## Creating the Final PCA-SVM Model with Best Parameters\n",
    "\n",
    "# Best hyperparameters obtained from the grid search\n",
    "best_params = {'svc__gamma': 0.0005, 'svc__C': 1}\n",
    "\n",
    "# Build a PCA-SVM pipeline using the best parameters\n",
    "final_pca_svm_model = make_pipeline(\n",
    "    PCA(n_components=0.9),\n",
    "    SVC(kernel='rbf', class_weight='balanced', C=best_params['svc__C'], gamma=best_params['svc__gamma'])\n",
    ")\n",
    "\n",
    "# Fit the final model using labeled training data (X_train, y_train)\n",
    "final_pca_svm_model.fit(X_train, y_train)"
   ]
  },
  {
   "cell_type": "code",
   "execution_count": 37,
   "id": "06191cbe-84ba-4294-bab3-265736a417c9",
   "metadata": {
    "tags": []
   },
   "outputs": [
    {
     "name": "stdout",
     "output_type": "stream",
     "text": [
      "Original data shape: (319795, 25)\n",
      "Transformed data shape (after PCA): (319795, 19)\n",
      "Accuracy of PCA with SVM: 0.7521849935114683\n"
     ]
    }
   ],
   "source": [
    "## Transforming Data Using PCA and Evaluating the Model\n",
    "\n",
    "# Transform the original data using PCA\n",
    "projected = final_pca_svm_model.named_steps['pca'].transform(X)\n",
    "\n",
    "# Print dimensions before and after PCA\n",
    "print(f\"Original data shape: {X.shape}\")\n",
    "print(f\"Transformed data shape (after PCA): {projected.shape}\")\n",
    "\n",
    "# Make predictions on the test set using the PCA-SVM model\n",
    "y_pred_pca = final_pca_svm_model.predict(X_test)\n",
    "\n",
    "# Evaluate the performance of the PCA-SVM model\n",
    "accuracy_pca = accuracy_score(y_test, y_pred_pca)\n",
    "print(f\"Accuracy of PCA with SVM: {accuracy_pca}\")"
   ]
  },
  {
   "cell_type": "markdown",
   "id": "6e2cf423-9f1f-4d0f-a4a0-ceb25daf712c",
   "metadata": {},
   "source": [
    "## Evaluating the Model"
   ]
  },
  {
   "cell_type": "markdown",
   "id": "845cfd52-89f4-4883-b61e-005491120b56",
   "metadata": {},
   "source": [
    "### Ploting The Confusion Matrix"
   ]
  },
  {
   "cell_type": "code",
   "execution_count": 15,
   "id": "f7e767d9-1189-4b99-a6b9-7d2a4addc61d",
   "metadata": {
    "tags": []
   },
   "outputs": [
    {
     "data": {
      "image/png": "[encoded data removed]",
      "text/plain": [
       "<Figure size 800x600 with 1 Axes>"
      ]
     },
     "metadata": {},
     "output_type": "display_data"
    }
   ],
   "source": [
    "from sklearn.metrics import confusion_matrix\n",
    "import matplotlib.pyplot as plt\n",
    "import seaborn as sns\n",
    "\n",
    "# Assuming you have final_pca_svm_model as your trained model\n",
    "y_pred = final_pca_svm_model.predict(X_test)\n",
    "\n",
    "# Compute confusion matrix\n",
    "conf_matrix = confusion_matrix(y_test, y_pred_pca)\n",
    "\n",
    "# Normalize the confusion matrix\n",
    "conf_matrix_normalized = conf_matrix / conf_matrix.sum(axis=1, keepdims=True)\n",
    "\n",
    "# Plot the normalized confusion matrix\n",
    "plt.figure(figsize=(8, 6))\n",
    "sns.heatmap(conf_matrix_normalized, annot=True, fmt=\".2f\", cmap=\"Blues\", cbar=False)\n",
    "plt.title(\"Normalized Confusion Matrix\")\n",
    "plt.xlabel(\"Predicted\")\n",
    "plt.ylabel(\"Actual\")\n",
    "plt.show()"
   ]
  },
  {
   "cell_type": "markdown",
   "id": "55434845-0267-43bc-841d-08fc1b17f5fa",
   "metadata": {},
   "source": [
    "### Printing The Classification Report"
   ]
  },
  {
   "cell_type": "code",
   "execution_count": 16,
   "id": "be6b0cc9-b849-4b39-b051-a6172265a53f",
   "metadata": {
    "tags": []
   },
   "outputs": [
    {
     "name": "stdout",
     "output_type": "stream",
     "text": [
      "Classification Report:\n",
      "               precision    recall  f1-score   support\n",
      "\n",
      "     Class 0       0.97      0.75      0.85     58367\n",
      "     Class 1       0.22      0.74      0.34      5592\n",
      "\n",
      "    accuracy                           0.75     63959\n",
      "   macro avg       0.59      0.74      0.59     63959\n",
      "weighted avg       0.90      0.75      0.80     63959\n",
      "\n"
     ]
    }
   ],
   "source": [
    "from sklearn.metrics import classification_report\n",
    "\n",
    "# Compute classification report\n",
    "report = classification_report(y_test, y_pred_pca, target_names=['Class 0', 'Class 1'])\n",
    "\n",
    "# Print the classification report\n",
    "print(\"Classification Report:\\n\", report)"
   ]
  },
  {
   "cell_type": "markdown",
   "id": "b269e509-c48a-4430-a551-6bb289778f84",
   "metadata": {},
   "source": [
    "#### Since The class 1 is less the Class 0 , We take in count The weighted Avg"
   ]
  },
  {
   "cell_type": "code",
   "execution_count": 25,
   "id": "42ee3cac-56b7-4787-a85f-88af880c13df",
   "metadata": {
    "tags": []
   },
   "outputs": [
    {
     "data": {
      "image/png": "[encoded data removed]",
      "text/plain": [
       "<Figure size 800x600 with 1 Axes>"
      ]
     },
     "metadata": {},
     "output_type": "display_data"
    }
   ],
   "source": [
    "# Plot the ROC curve\n",
    "from sklearn.metrics import roc_curve, auc\n",
    "y_score = final_pca_svm_model.decision_function(X_test)\n",
    "fpr, tpr, _ = roc_curve(y_test, y_score)\n",
    "roc_auc = auc(fpr, tpr)\n",
    "\n",
    "plt.figure(figsize=(8, 6))\n",
    "plt.plot(fpr, tpr, color='darkorange', lw=2, label='ROC curve (AUC = {:.2f})'.format(roc_auc))\n",
    "plt.plot([0, 1], [0, 1], color='navy', lw=2, linestyle='--')\n",
    "plt.xlim([0.0, 1.0])\n",
    "plt.ylim([0.0, 1.05])\n",
    "plt.xlabel('False Positive Rate')\n",
    "plt.ylabel('True Positive Rate')\n",
    "plt.title('Receiver Operating Characteristic (ROC) Curve')\n",
    "plt.legend(loc='lower right')\n",
    "plt.show()"
   ]
  },
  {
   "cell_type": "markdown",
   "id": "04a10a43-a047-4543-9738-88ba20648aa9",
   "metadata": {},
   "source": [
    "## Saving the PCA-SVM Model to a File"
   ]
  },
  {
   "cell_type": "code",
   "execution_count": 19,
   "id": "379c6f8e-21c4-40d9-a718-0d2c99e350a1",
   "metadata": {
    "tags": []
   },
   "outputs": [
    {
     "data": {
      "text/plain": [
       "['final_pca_svm_model.pkl']"
      ]
     },
     "execution_count": 19,
     "metadata": {},
     "output_type": "execute_result"
    }
   ],
   "source": [
    "import joblib\n",
    "\n",
    "# Save the model to a file\n",
    "joblib.dump(final_pca_svm_model, 'final_pca_svm_model.pkl')"
   ]
  }
 ],
 "metadata": {
  "kernelspec": {
   "display_name": "Python 3 (ipykernel)",
   "language": "python",
   "name": "python3"
  },
  "language_info": {
   "codemirror_mode": {
    "name": "ipython",
    "version": 3
   },
   "file_extension": ".py",
   "mimetype": "text/x-python",
   "name": "python",
   "nbconvert_exporter": "python",
   "pygments_lexer": "ipython3",
   "version": "3.11.5"
  }
 },
 "nbformat": 4,
 "nbformat_minor": 5
}
