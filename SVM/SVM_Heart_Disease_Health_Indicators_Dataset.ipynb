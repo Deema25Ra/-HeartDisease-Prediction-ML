{
 "cells": [
  {
   "cell_type": "markdown",
   "id": "c6dd7bf9-f4e1-4e9e-80ce-1d9d932ddd38",
   "metadata": {},
   "source": [
    "## Dataset Description \n"
   ]
  },
  {
   "cell_type": "markdown",
   "id": "3bf14604-6f8b-4bab-8551-c5bb69abbb45",
   "metadata": {
    "tags": []
   },
   "source": [
    "##### HighBP: Indicates whether the individual has been diagnosed with High Blood Pressure by a health professional.\n",
    "\n",
    "##### HighChol: Indicates whether the individual has been diagnosed with High Blood Cholesterol by a health professional.\n",
    "\n",
    "##### CholCheck: Reflects whether the person has undergone a cholesterol check within the last 5 years.\n",
    "\n",
    "##### BMI: Body Mass Index, calculated by dividing the person's weight (in kilograms) by the square of their height (in meters).\n",
    "\n",
    "##### Smoker: Indicates whether the person has a history of smoking, defined as having smoked at least 100 cigarettes.\n",
    "\n",
    "##### Stroke: Indicates whether the person has a history of stroke.\n",
    "\n",
    "##### Diabetes: Indicates the person's diabetes status, encompassing a history of diabetes, current pre-diabetes, or the presence of either type of diabetes.\n",
    "\n",
    "##### PhysActivity: Indicates whether the person engages in some form of physical activity in their day-to-day routine.\n",
    "\n",
    "##### Fruits: Indicates whether the person consumes 1 or more fruits daily.\n",
    "\n",
    "##### Veggies: Indicates whether the person consumes 1 or more vegetables daily.\n",
    "\n",
    "##### HvyAlcoholConsump: Indicates whether the person has a heavy alcohol consumption habit, defined as more than 14 drinks per week.\n",
    "\n",
    "##### AnyHealthcare: Indicates whether the person has any form of health insurance.\n",
    "\n",
    "##### NoDocbcCost: Indicates whether the person wanted to visit a doctor within the past year but couldn't due to cost constraints.\n",
    "\n",
    "##### GenHlth: Reflects the person's self-reported general health on a scale ranging from 1 (excellent) to 5 (poor).\n",
    "\n",
    "##### Menthlth: Indicates the number of days, within the past 30 days, that the person experienced bad mental health.\n",
    "\n",
    "##### PhysHlth: Indicates the number of days, within the past 30 days, that the person experienced bad physical health.\n",
    "\n",
    "##### DiffWalk: Indicates whether the person has difficulty walking or climbing stairs.\n",
    "\n",
    "##### Sex: Indicates the gender of the person, where 0 represents female and 1 represents male.\n",
    "\n",
    "##### Age: Indicates the age class of the person, with intervals starting from 1 for 18-24 years and ending at 13 for 80 years or older, each interval representing a 5-year increment.\n",
    "\n",
    "##### Education: Indicates the highest year of school completed, ranging from 0 for never attended or kindergarten only to 6 for having attended 4 years of college or more.\n",
    "\n",
    "##### Income: Indicates the total household income, ranging from 1 (at least $10,000) to 6 ($75,000+)."
   ]
  },
  {
   "cell_type": "code",
   "execution_count": 1,
   "id": "485076cb-1a6f-487d-a293-ef584673c2fd",
   "metadata": {
    "tags": []
   },
   "outputs": [],
   "source": [
    "### importing the reqiered libraries \n",
    "from sklearn.feature_selection import RFE\n",
    "from sklearn.svm import SVC\n",
    "from sklearn.model_selection import train_test_split\n",
    "from sklearn.preprocessing import StandardScaler\n",
    "from sklearn.metrics import classification_report\n",
    "import pandas as pd\n",
    "from sklearn.preprocessing import LabelEncoder\n",
    "import numpy as np\n",
    "from sklearn.metrics import accuracy_score\n",
    "from sklearn.decomposition import PCA\n",
    "from sklearn.pipeline import Pipeline\n",
    "from sklearn.model_selection import RandomizedSearchCV\n",
    "from sklearn.pipeline import make_pipeline\n",
    "from sklearn.decomposition import PCA as RandomizedPCA\n",
    "import seaborn as sns\n",
    "import matplotlib.pyplot as plt\n",
    "from sklearn.metrics import confusion_matrix, classification_report\n",
    "from sklearn.model_selection import GridSearchCV, train_test_split\n",
    "from sklearn.metrics import accuracy_score, confusion_matrix, precision_score, recall_score, f1_score, ConfusionMatrixDisplay\n",
    "from sklearn.metrics import classification_report\n"
   ]
  },
  {
   "cell_type": "markdown",
   "id": "5ae2e295-9b31-4a3b-900b-ee3a68c32134",
   "metadata": {},
   "source": [
    "## 1-Reading the dataset"
   ]
  },
  {
   "cell_type": "code",
   "execution_count": 2,
   "id": "62fdaa52-9ce3-4c1c-9931-f4451db98e11",
   "metadata": {
    "tags": []
   },
   "outputs": [
    {
     "name": "stdout",
     "output_type": "stream",
     "text": [
      "   HeartDiseaseorAttack  HighBP  HighChol  CholCheck   BMI  Smoker  Stroke  \\\n",
      "0                   0.0     1.0       1.0        1.0  40.0     1.0     0.0   \n",
      "1                   0.0     0.0       0.0        0.0  25.0     1.0     0.0   \n",
      "2                   0.0     1.0       1.0        1.0  28.0     0.0     0.0   \n",
      "3                   0.0     1.0       0.0        1.0  27.0     0.0     0.0   \n",
      "4                   0.0     1.0       1.0        1.0  24.0     0.0     0.0   \n",
      "\n",
      "   Diabetes  PhysActivity  Fruits  ...  AnyHealthcare  NoDocbcCost  GenHlth  \\\n",
      "0       0.0           0.0     0.0  ...            1.0          0.0      5.0   \n",
      "1       0.0           1.0     0.0  ...            0.0          1.0      3.0   \n",
      "2       0.0           0.0     1.0  ...            1.0          1.0      5.0   \n",
      "3       0.0           1.0     1.0  ...            1.0          0.0      2.0   \n",
      "4       0.0           1.0     1.0  ...            1.0          0.0      2.0   \n",
      "\n",
      "   MentHlth  PhysHlth  DiffWalk  Sex   Age  Education  Income  \n",
      "0      18.0      15.0       1.0  0.0   9.0        4.0     3.0  \n",
      "1       0.0       0.0       0.0  0.0   7.0        6.0     1.0  \n",
      "2      30.0      30.0       1.0  0.0   9.0        4.0     8.0  \n",
      "3       0.0       0.0       0.0  0.0  11.0        3.0     6.0  \n",
      "4       3.0       0.0       0.0  0.0  11.0        5.0     4.0  \n",
      "\n",
      "[5 rows x 22 columns]\n"
     ]
    }
   ],
   "source": [
    "\n",
    "file_path = 'heart_disease_health_indicators_BRFSS2015.csv'\n",
    "\n",
    "# Read the CSV file into a DataFrame\n",
    "dataset = pd.read_csv(file_path)\n",
    "\n",
    "# Display the first few rows of the dataset to inspect its structure\n",
    "print(dataset.head())"
   ]
  },
  {
   "cell_type": "markdown",
   "id": "70a35c64-a250-43dc-960c-842a37ed1a79",
   "metadata": {
    "tags": []
   },
   "source": [
    "## 2-Preprocessing"
   ]
  },
  {
   "cell_type": "markdown",
   "id": "66f11045-35f3-4600-ab98-65ac5594627b",
   "metadata": {},
   "source": [
    "#### - checking the null values "
   ]
  },
  {
   "cell_type": "code",
   "execution_count": 3,
   "id": "a5a95371-d6c1-4662-8c2b-7281b177664e",
   "metadata": {
    "tags": []
   },
   "outputs": [
    {
     "name": "stdout",
     "output_type": "stream",
     "text": [
      "HeartDiseaseorAttack    0\n",
      "HighBP                  0\n",
      "HighChol                0\n",
      "CholCheck               0\n",
      "BMI                     0\n",
      "Smoker                  0\n",
      "Stroke                  0\n",
      "Diabetes                0\n",
      "PhysActivity            0\n",
      "Fruits                  0\n",
      "Veggies                 0\n",
      "HvyAlcoholConsump       0\n",
      "AnyHealthcare           0\n",
      "NoDocbcCost             0\n",
      "GenHlth                 0\n",
      "MentHlth                0\n",
      "PhysHlth                0\n",
      "DiffWalk                0\n",
      "Sex                     0\n",
      "Age                     0\n",
      "Education               0\n",
      "Income                  0\n",
      "dtype: int64\n"
     ]
    }
   ],
   "source": [
    "# Check for null values in the dataset\n",
    "null_values = dataset.isnull().sum()\n",
    "\n",
    "# Display the count of null values for each column\n",
    "print(null_values)"
   ]
  },
  {
   "cell_type": "markdown",
   "id": "1ed1ff8d-df9d-45d1-9246-1190a9759c38",
   "metadata": {},
   "source": [
    "#### there is no null valeus"
   ]
  },
  {
   "cell_type": "markdown",
   "id": "2678b76d-00cf-40d0-a588-32cd4edc31fa",
   "metadata": {},
   "source": [
    "#### -Standard Scaling "
   ]
  },
  {
   "cell_type": "code",
   "execution_count": 4,
   "id": "e4f8c010-4ff3-4945-b001-fce40828e20e",
   "metadata": {
    "tags": []
   },
   "outputs": [],
   "source": [
    "# Select only numerical colomns for scaling\n",
    "columns_to_scale = [\"MentHlth\", \"PhysHlth\"]\n",
    "\n",
    "# Create a StandardScaler instance\n",
    "scaler = StandardScaler()\n",
    "\n",
    "# Fit the scaler to the selected columns and transform them\n",
    "dataset[columns_to_scale] = scaler.fit_transform(dataset[columns_to_scale])"
   ]
  },
  {
   "cell_type": "code",
   "execution_count": 5,
   "id": "9b74b170-bc91-4202-a2eb-c914a2ab9966",
   "metadata": {
    "tags": []
   },
   "outputs": [
    {
     "data": {
      "text/html": [
       "<div>\n",
       "<style scoped>\n",
       "    .dataframe tbody tr th:only-of-type {\n",
       "        vertical-align: middle;\n",
       "    }\n",
       "\n",
       "    .dataframe tbody tr th {\n",
       "        vertical-align: top;\n",
       "    }\n",
       "\n",
       "    .dataframe thead th {\n",
       "        text-align: right;\n",
       "    }\n",
       "</style>\n",
       "<table border=\"1\" class=\"dataframe\">\n",
       "  <thead>\n",
       "    <tr style=\"text-align: right;\">\n",
       "      <th></th>\n",
       "      <th>HeartDiseaseorAttack</th>\n",
       "      <th>HighBP</th>\n",
       "      <th>HighChol</th>\n",
       "      <th>CholCheck</th>\n",
       "      <th>BMI</th>\n",
       "      <th>Smoker</th>\n",
       "      <th>Stroke</th>\n",
       "      <th>Diabetes</th>\n",
       "      <th>PhysActivity</th>\n",
       "      <th>Fruits</th>\n",
       "      <th>...</th>\n",
       "      <th>AnyHealthcare</th>\n",
       "      <th>NoDocbcCost</th>\n",
       "      <th>GenHlth</th>\n",
       "      <th>MentHlth</th>\n",
       "      <th>PhysHlth</th>\n",
       "      <th>DiffWalk</th>\n",
       "      <th>Sex</th>\n",
       "      <th>Age</th>\n",
       "      <th>Education</th>\n",
       "      <th>Income</th>\n",
       "    </tr>\n",
       "  </thead>\n",
       "  <tbody>\n",
       "    <tr>\n",
       "      <th>0</th>\n",
       "      <td>0.0</td>\n",
       "      <td>1.0</td>\n",
       "      <td>1.0</td>\n",
       "      <td>1.0</td>\n",
       "      <td>40.0</td>\n",
       "      <td>1.0</td>\n",
       "      <td>0.0</td>\n",
       "      <td>0.0</td>\n",
       "      <td>0.0</td>\n",
       "      <td>0.0</td>\n",
       "      <td>...</td>\n",
       "      <td>1.0</td>\n",
       "      <td>0.0</td>\n",
       "      <td>5.0</td>\n",
       "      <td>1.998592</td>\n",
       "      <td>1.233999</td>\n",
       "      <td>1.0</td>\n",
       "      <td>0.0</td>\n",
       "      <td>9.0</td>\n",
       "      <td>4.0</td>\n",
       "      <td>3.0</td>\n",
       "    </tr>\n",
       "    <tr>\n",
       "      <th>1</th>\n",
       "      <td>0.0</td>\n",
       "      <td>0.0</td>\n",
       "      <td>0.0</td>\n",
       "      <td>0.0</td>\n",
       "      <td>25.0</td>\n",
       "      <td>1.0</td>\n",
       "      <td>0.0</td>\n",
       "      <td>0.0</td>\n",
       "      <td>1.0</td>\n",
       "      <td>0.0</td>\n",
       "      <td>...</td>\n",
       "      <td>0.0</td>\n",
       "      <td>1.0</td>\n",
       "      <td>3.0</td>\n",
       "      <td>-0.429630</td>\n",
       "      <td>-0.486592</td>\n",
       "      <td>0.0</td>\n",
       "      <td>0.0</td>\n",
       "      <td>7.0</td>\n",
       "      <td>6.0</td>\n",
       "      <td>1.0</td>\n",
       "    </tr>\n",
       "    <tr>\n",
       "      <th>2</th>\n",
       "      <td>0.0</td>\n",
       "      <td>1.0</td>\n",
       "      <td>1.0</td>\n",
       "      <td>1.0</td>\n",
       "      <td>28.0</td>\n",
       "      <td>0.0</td>\n",
       "      <td>0.0</td>\n",
       "      <td>0.0</td>\n",
       "      <td>0.0</td>\n",
       "      <td>1.0</td>\n",
       "      <td>...</td>\n",
       "      <td>1.0</td>\n",
       "      <td>1.0</td>\n",
       "      <td>5.0</td>\n",
       "      <td>3.617407</td>\n",
       "      <td>2.954590</td>\n",
       "      <td>1.0</td>\n",
       "      <td>0.0</td>\n",
       "      <td>9.0</td>\n",
       "      <td>4.0</td>\n",
       "      <td>8.0</td>\n",
       "    </tr>\n",
       "    <tr>\n",
       "      <th>3</th>\n",
       "      <td>0.0</td>\n",
       "      <td>1.0</td>\n",
       "      <td>0.0</td>\n",
       "      <td>1.0</td>\n",
       "      <td>27.0</td>\n",
       "      <td>0.0</td>\n",
       "      <td>0.0</td>\n",
       "      <td>0.0</td>\n",
       "      <td>1.0</td>\n",
       "      <td>1.0</td>\n",
       "      <td>...</td>\n",
       "      <td>1.0</td>\n",
       "      <td>0.0</td>\n",
       "      <td>2.0</td>\n",
       "      <td>-0.429630</td>\n",
       "      <td>-0.486592</td>\n",
       "      <td>0.0</td>\n",
       "      <td>0.0</td>\n",
       "      <td>11.0</td>\n",
       "      <td>3.0</td>\n",
       "      <td>6.0</td>\n",
       "    </tr>\n",
       "    <tr>\n",
       "      <th>4</th>\n",
       "      <td>0.0</td>\n",
       "      <td>1.0</td>\n",
       "      <td>1.0</td>\n",
       "      <td>1.0</td>\n",
       "      <td>24.0</td>\n",
       "      <td>0.0</td>\n",
       "      <td>0.0</td>\n",
       "      <td>0.0</td>\n",
       "      <td>1.0</td>\n",
       "      <td>1.0</td>\n",
       "      <td>...</td>\n",
       "      <td>1.0</td>\n",
       "      <td>0.0</td>\n",
       "      <td>2.0</td>\n",
       "      <td>-0.024926</td>\n",
       "      <td>-0.486592</td>\n",
       "      <td>0.0</td>\n",
       "      <td>0.0</td>\n",
       "      <td>11.0</td>\n",
       "      <td>5.0</td>\n",
       "      <td>4.0</td>\n",
       "    </tr>\n",
       "  </tbody>\n",
       "</table>\n",
       "<p>5 rows × 22 columns</p>\n",
       "</div>"
      ],
      "text/plain": [
       "   HeartDiseaseorAttack  HighBP  HighChol  CholCheck   BMI  Smoker  Stroke  \\\n",
       "0                   0.0     1.0       1.0        1.0  40.0     1.0     0.0   \n",
       "1                   0.0     0.0       0.0        0.0  25.0     1.0     0.0   \n",
       "2                   0.0     1.0       1.0        1.0  28.0     0.0     0.0   \n",
       "3                   0.0     1.0       0.0        1.0  27.0     0.0     0.0   \n",
       "4                   0.0     1.0       1.0        1.0  24.0     0.0     0.0   \n",
       "\n",
       "   Diabetes  PhysActivity  Fruits  ...  AnyHealthcare  NoDocbcCost  GenHlth  \\\n",
       "0       0.0           0.0     0.0  ...            1.0          0.0      5.0   \n",
       "1       0.0           1.0     0.0  ...            0.0          1.0      3.0   \n",
       "2       0.0           0.0     1.0  ...            1.0          1.0      5.0   \n",
       "3       0.0           1.0     1.0  ...            1.0          0.0      2.0   \n",
       "4       0.0           1.0     1.0  ...            1.0          0.0      2.0   \n",
       "\n",
       "   MentHlth  PhysHlth  DiffWalk  Sex   Age  Education  Income  \n",
       "0  1.998592  1.233999       1.0  0.0   9.0        4.0     3.0  \n",
       "1 -0.429630 -0.486592       0.0  0.0   7.0        6.0     1.0  \n",
       "2  3.617407  2.954590       1.0  0.0   9.0        4.0     8.0  \n",
       "3 -0.429630 -0.486592       0.0  0.0  11.0        3.0     6.0  \n",
       "4 -0.024926 -0.486592       0.0  0.0  11.0        5.0     4.0  \n",
       "\n",
       "[5 rows x 22 columns]"
      ]
     },
     "execution_count": 5,
     "metadata": {},
     "output_type": "execute_result"
    }
   ],
   "source": [
    "dataset.head()"
   ]
  },
  {
   "cell_type": "markdown",
   "id": "d9ab1496-26d8-4fe2-9eca-b0c6724f497e",
   "metadata": {
    "tags": []
   },
   "source": [
    "### 3-Feature engineering "
   ]
  },
  {
   "cell_type": "markdown",
   "id": "1abcbbaa-7506-43a1-a9a5-7c91e91e74e0",
   "metadata": {
    "tags": []
   },
   "source": [
    "#### convert BMI values into categories "
   ]
  },
  {
   "cell_type": "code",
   "execution_count": 6,
   "id": "80aed844-8fa0-4118-9dc1-c1ba03c05941",
   "metadata": {
    "tags": []
   },
   "outputs": [],
   "source": [
    "# Perform feature engineering on BMI to create a WeightStatus category\n",
    "bins = [-float('inf'), 18.5, 24.9, 29.9, float('inf')]\n",
    "labels = ['Underweight', 'Healthy Weight', 'Overweight', 'Obese']\n",
    "\n",
    "# Replace the original 'BMI' values with the WeightStatus categories\n",
    "dataset['BMI'] = pd.cut(dataset['BMI'], bins=bins, labels=labels)"
   ]
  },
  {
   "cell_type": "code",
   "execution_count": 7,
   "id": "e710efbb-4b14-4547-8acd-2c20ef2525a9",
   "metadata": {
    "tags": []
   },
   "outputs": [
    {
     "data": {
      "text/plain": [
       "0             Obese\n",
       "1        Overweight\n",
       "2        Overweight\n",
       "3        Overweight\n",
       "4    Healthy Weight\n",
       "Name: BMI, dtype: category\n",
       "Categories (4, object): ['Underweight' < 'Healthy Weight' < 'Overweight' < 'Obese']"
      ]
     },
     "execution_count": 7,
     "metadata": {},
     "output_type": "execute_result"
    }
   ],
   "source": [
    "dataset['BMI'].head()"
   ]
  },
  {
   "cell_type": "markdown",
   "id": "2b3e228e-a742-4e2e-bea7-2a1da0bbc4f9",
   "metadata": {},
   "source": [
    "#### encode the Categories into [1,2,3,4] with respect to ['Underweight', 'Healthy Weight', 'Overweight', 'Obese']"
   ]
  },
  {
   "cell_type": "code",
   "execution_count": 8,
   "id": "ce8a443e-6e6b-448d-806c-3bbacb9d902c",
   "metadata": {
    "tags": []
   },
   "outputs": [],
   "source": [
    "\n",
    "# Encode the new 'BMI' categories to numerical values\n",
    "# Define a custom mapping for label encoding\n",
    "label_mapping = {'Underweight': 1, 'Healthy Weight': 2, 'Overweight': 3, 'Obese': 4}\n",
    "\n",
    "# Map the 'BMI' categories to specific numerical values using the custom mapping\n",
    "dataset['BMI'] = dataset['BMI'].map(label_mapping)"
   ]
  },
  {
   "cell_type": "code",
   "execution_count": 9,
   "id": "dcd86ff5-1250-4e05-8a55-cbd62cc389e2",
   "metadata": {
    "tags": []
   },
   "outputs": [
    {
     "data": {
      "text/plain": [
       "0    4\n",
       "1    3\n",
       "2    3\n",
       "3    3\n",
       "4    2\n",
       "Name: BMI, dtype: category\n",
       "Categories (4, int64): [1 < 2 < 3 < 4]"
      ]
     },
     "execution_count": 9,
     "metadata": {},
     "output_type": "execute_result"
    }
   ],
   "source": [
    "dataset['BMI'].head(5)"
   ]
  },
  {
   "cell_type": "markdown",
   "id": "0b37545f-fe3a-4a97-a79e-1e0eb9bde606",
   "metadata": {},
   "source": [
    "## 3- Creating a PCA-SVM Model"
   ]
  },
  {
   "cell_type": "markdown",
   "id": "7058e357-73e6-4076-9da9-7e5fa7c9e3b0",
   "metadata": {},
   "source": [
    "### -Without Hyperparameter Tuning"
   ]
  },
  {
   "cell_type": "markdown",
   "id": "733b1de3-62bd-402d-a207-9c7c24526a37",
   "metadata": {},
   "source": [
    "#### Creating and Evaluating a PCA-SVM Model for Heart Disease Prediction"
   ]
  },
  {
   "cell_type": "code",
   "execution_count": 10,
   "id": "a847ef65-f6ff-49ad-bbf0-ffbd4f491de5",
   "metadata": {
    "tags": []
   },
   "outputs": [
    {
     "name": "stdout",
     "output_type": "stream",
     "text": [
      "Accuracy of PCA with SVM: 0.9060430463576159\n"
     ]
    }
   ],
   "source": [
    "# Separate features (X) and target variable (y)\n",
    "X = dataset.drop(columns=['HeartDiseaseorAttack'])\n",
    "y = dataset['HeartDiseaseorAttack']\n",
    "\n",
    "# Split the data into training and testing sets\n",
    "X_train, X_test, y_train, y_test = train_test_split(X, y, test_size=0.2, random_state=42)\n",
    "\n",
    "# Build a PCA-SVM pipeline with PCA retaining 95% of the variance and an SVM classifier\n",
    "pca_svm_model = Pipeline([\n",
    "    ('pca', PCA(n_components=0.95)),  # Retain 95% of the variance\n",
    "    ('svm', SVC(kernel='rbf'))    \n",
    "])\n",
    "\n",
    "# Train the PCA-SVM model on the training data\n",
    "pca_svm_model.fit(X_train, y_train)\n",
    "\n",
    "# Transform the original data using PCA\n",
    "projected = pca_svm_model.named_steps['pca'].transform(X)\n",
    "\n",
    "\n",
    "# Make predictions on the test set using the PCA-SVM model\n",
    "y_pred_pca = pca_svm_model.predict(X_test)\n",
    "\n",
    "# Evaluate the performance of the PCA-SVM model\n",
    "accuracy_pca = accuracy_score(y_test, y_pred_pca)\n",
    "print(f\"Accuracy of PCA with SVM: {accuracy_pca}\")"
   ]
  },
  {
   "cell_type": "code",
   "execution_count": 13,
   "id": "76fe66c6-9d86-4332-808f-530108e189f4",
   "metadata": {
    "tags": []
   },
   "outputs": [
    {
     "data": {
      "image/png": "[encoded data removed]",
      "text/plain": [
       "<Figure size 800x600 with 1 Axes>"
      ]
     },
     "metadata": {},
     "output_type": "display_data"
    }
   ],
   "source": [
    "# Calculate the confusion matrix\n",
    "conf_matrix = confusion_matrix(y_test, y_pred_pca)\n",
    "\n",
    "# Plot the confusion matrix using seaborn\n",
    "plt.figure(figsize=(8, 6))\n",
    "sns.heatmap(conf_matrix, annot=True, fmt=\"d\", cmap=\"Blues\", cbar=False)\n",
    "plt.title(\"Confusion Matrix\")\n",
    "plt.xlabel(\"Predicted\")\n",
    "plt.ylabel(\"Actual\")\n",
    "plt.show()"
   ]
  },
  {
   "cell_type": "code",
   "execution_count": 15,
   "id": "59ae7b0a-9230-4c4a-8269-c6959ad62d82",
   "metadata": {
    "tags": []
   },
   "outputs": [
    {
     "name": "stdout",
     "output_type": "stream",
     "text": [
      "Classification Report:\n",
      "              precision    recall  f1-score   support\n",
      "\n",
      "         0.0       0.91      1.00      0.95     45968\n",
      "         1.0       0.67      0.00      0.00      4768\n",
      "\n",
      "    accuracy                           0.91     50736\n",
      "   macro avg       0.79      0.50      0.48     50736\n",
      "weighted avg       0.88      0.91      0.86     50736\n",
      "\n"
     ]
    }
   ],
   "source": [
    "class_report = classification_report(y_test, y_pred_pca)\n",
    "print(\"Classification Report:\")\n",
    "print(class_report)"
   ]
  },
  {
   "cell_type": "markdown",
   "id": "3dea83d2-551f-4abc-98f4-836b7bdd0b7e",
   "metadata": {},
   "source": [
    "#### Conclusion: Minority Class Imbalance Identified"
   ]
  },
  {
   "cell_type": "markdown",
   "id": "3c801112-ceb2-43ed-be8e-3ab24983253d",
   "metadata": {},
   "source": [
    "### -With Hyperparameter Tuning"
   ]
  },
  {
   "cell_type": "code",
   "execution_count": 25,
   "id": "7cd18c86-5110-4c07-b55c-94a15800b69f",
   "metadata": {
    "tags": []
   },
   "outputs": [
    {
     "name": "stdout",
     "output_type": "stream",
     "text": [
      "Fitting 2 folds for each of 9 candidates, totalling 18 fits\n",
      "[CV] END ........................svc__C=1, svc__gamma=0.0005; total time= 5.5min\n",
      "[CV] END ........................svc__C=1, svc__gamma=0.0005; total time= 5.6min\n",
      "[CV] END .........................svc__C=1, svc__gamma=0.001; total time= 5.8min\n",
      "[CV] END .........................svc__C=1, svc__gamma=0.001; total time= 5.7min\n",
      "[CV] END .........................svc__C=1, svc__gamma=0.005; total time= 5.6min\n",
      "[CV] END .........................svc__C=1, svc__gamma=0.005; total time= 5.9min\n",
      "[CV] END ........................svc__C=5, svc__gamma=0.0005; total time= 5.5min\n",
      "[CV] END ........................svc__C=5, svc__gamma=0.0005; total time= 5.5min\n",
      "[CV] END .........................svc__C=5, svc__gamma=0.001; total time= 6.7min\n",
      "[CV] END .........................svc__C=5, svc__gamma=0.001; total time= 9.0min\n",
      "[CV] END .........................svc__C=5, svc__gamma=0.005; total time=11.0min\n",
      "[CV] END .........................svc__C=5, svc__gamma=0.005; total time=11.6min\n",
      "[CV] END .......................svc__C=10, svc__gamma=0.0005; total time=11.1min\n",
      "[CV] END .......................svc__C=10, svc__gamma=0.0005; total time=13.2min\n",
      "[CV] END ........................svc__C=10, svc__gamma=0.001; total time=11.5min\n",
      "[CV] END ........................svc__C=10, svc__gamma=0.001; total time=11.6min\n",
      "[CV] END ........................svc__C=10, svc__gamma=0.005; total time=11.6min\n",
      "[CV] END ........................svc__C=10, svc__gamma=0.005; total time=11.3min\n",
      "CPU times: user 2h 46min 17s, sys: 3min 1s, total: 2h 49min 19s\n",
      "Wall time: 2h 59min 1s\n"
     ]
    },
    {
     "data": {
      "text/html": [
       "<style>#sk-container-id-1 {color: black;}#sk-container-id-1 pre{padding: 0;}#sk-container-id-1 div.sk-toggleable {background-color: white;}#sk-container-id-1 label.sk-toggleable__label {cursor: pointer;display: block;width: 100%;margin-bottom: 0;padding: 0.3em;box-sizing: border-box;text-align: center;}#sk-container-id-1 label.sk-toggleable__label-arrow:before {content: \"▸\";float: left;margin-right: 0.25em;color: #696969;}#sk-container-id-1 label.sk-toggleable__label-arrow:hover:before {color: black;}#sk-container-id-1 div.sk-estimator:hover label.sk-toggleable__label-arrow:before {color: black;}#sk-container-id-1 div.sk-toggleable__content {max-height: 0;max-width: 0;overflow: hidden;text-align: left;background-color: #f0f8ff;}#sk-container-id-1 div.sk-toggleable__content pre {margin: 0.2em;color: black;border-radius: 0.25em;background-color: #f0f8ff;}#sk-container-id-1 input.sk-toggleable__control:checked~div.sk-toggleable__content {max-height: 200px;max-width: 100%;overflow: auto;}#sk-container-id-1 input.sk-toggleable__control:checked~label.sk-toggleable__label-arrow:before {content: \"▾\";}#sk-container-id-1 div.sk-estimator input.sk-toggleable__control:checked~label.sk-toggleable__label {background-color: #d4ebff;}#sk-container-id-1 div.sk-label input.sk-toggleable__control:checked~label.sk-toggleable__label {background-color: #d4ebff;}#sk-container-id-1 input.sk-hidden--visually {border: 0;clip: rect(1px 1px 1px 1px);clip: rect(1px, 1px, 1px, 1px);height: 1px;margin: -1px;overflow: hidden;padding: 0;position: absolute;width: 1px;}#sk-container-id-1 div.sk-estimator {font-family: monospace;background-color: #f0f8ff;border: 1px dotted black;border-radius: 0.25em;box-sizing: border-box;margin-bottom: 0.5em;}#sk-container-id-1 div.sk-estimator:hover {background-color: #d4ebff;}#sk-container-id-1 div.sk-parallel-item::after {content: \"\";width: 100%;border-bottom: 1px solid gray;flex-grow: 1;}#sk-container-id-1 div.sk-label:hover label.sk-toggleable__label {background-color: #d4ebff;}#sk-container-id-1 div.sk-serial::before {content: \"\";position: absolute;border-left: 1px solid gray;box-sizing: border-box;top: 0;bottom: 0;left: 50%;z-index: 0;}#sk-container-id-1 div.sk-serial {display: flex;flex-direction: column;align-items: center;background-color: white;padding-right: 0.2em;padding-left: 0.2em;position: relative;}#sk-container-id-1 div.sk-item {position: relative;z-index: 1;}#sk-container-id-1 div.sk-parallel {display: flex;align-items: stretch;justify-content: center;background-color: white;position: relative;}#sk-container-id-1 div.sk-item::before, #sk-container-id-1 div.sk-parallel-item::before {content: \"\";position: absolute;border-left: 1px solid gray;box-sizing: border-box;top: 0;bottom: 0;left: 50%;z-index: -1;}#sk-container-id-1 div.sk-parallel-item {display: flex;flex-direction: column;z-index: 1;position: relative;background-color: white;}#sk-container-id-1 div.sk-parallel-item:first-child::after {align-self: flex-end;width: 50%;}#sk-container-id-1 div.sk-parallel-item:last-child::after {align-self: flex-start;width: 50%;}#sk-container-id-1 div.sk-parallel-item:only-child::after {width: 0;}#sk-container-id-1 div.sk-dashed-wrapped {border: 1px dashed gray;margin: 0 0.4em 0.5em 0.4em;box-sizing: border-box;padding-bottom: 0.4em;background-color: white;}#sk-container-id-1 div.sk-label label {font-family: monospace;font-weight: bold;display: inline-block;line-height: 1.2em;}#sk-container-id-1 div.sk-label-container {text-align: center;}#sk-container-id-1 div.sk-container {/* jupyter's `normalize.less` sets `[hidden] { display: none; }` but bootstrap.min.css set `[hidden] { display: none !important; }` so we also need the `!important` here to be able to override the default hidden behavior on the sphinx rendered scikit-learn.org. See: https://github.com/scikit-learn/scikit-learn/issues/21755 */display: inline-block !important;position: relative;}#sk-container-id-1 div.sk-text-repr-fallback {display: none;}</style><div id=\"sk-container-id-1\" class=\"sk-top-container\"><div class=\"sk-text-repr-fallback\"><pre>GridSearchCV(cv=2,\n",
       "             estimator=Pipeline(steps=[(&#x27;pca&#x27;,\n",
       "                                        PCA(n_components=0.95, random_state=42,\n",
       "                                            whiten=True)),\n",
       "                                       (&#x27;svc&#x27;, SVC(class_weight=&#x27;balanced&#x27;))]),\n",
       "             param_grid={&#x27;svc__C&#x27;: [1, 5, 10],\n",
       "                         &#x27;svc__gamma&#x27;: [0.0005, 0.001, 0.005]},\n",
       "             verbose=2)</pre><b>In a Jupyter environment, please rerun this cell to show the HTML representation or trust the notebook. <br />On GitHub, the HTML representation is unable to render, please try loading this page with nbviewer.org.</b></div><div class=\"sk-container\" hidden><div class=\"sk-item sk-dashed-wrapped\"><div class=\"sk-label-container\"><div class=\"sk-label sk-toggleable\"><input class=\"sk-toggleable__control sk-hidden--visually\" id=\"sk-estimator-id-1\" type=\"checkbox\" ><label for=\"sk-estimator-id-1\" class=\"sk-toggleable__label sk-toggleable__label-arrow\">GridSearchCV</label><div class=\"sk-toggleable__content\"><pre>GridSearchCV(cv=2,\n",
       "             estimator=Pipeline(steps=[(&#x27;pca&#x27;,\n",
       "                                        PCA(n_components=0.95, random_state=42,\n",
       "                                            whiten=True)),\n",
       "                                       (&#x27;svc&#x27;, SVC(class_weight=&#x27;balanced&#x27;))]),\n",
       "             param_grid={&#x27;svc__C&#x27;: [1, 5, 10],\n",
       "                         &#x27;svc__gamma&#x27;: [0.0005, 0.001, 0.005]},\n",
       "             verbose=2)</pre></div></div></div><div class=\"sk-parallel\"><div class=\"sk-parallel-item\"><div class=\"sk-item\"><div class=\"sk-label-container\"><div class=\"sk-label sk-toggleable\"><input class=\"sk-toggleable__control sk-hidden--visually\" id=\"sk-estimator-id-2\" type=\"checkbox\" ><label for=\"sk-estimator-id-2\" class=\"sk-toggleable__label sk-toggleable__label-arrow\">estimator: Pipeline</label><div class=\"sk-toggleable__content\"><pre>Pipeline(steps=[(&#x27;pca&#x27;, PCA(n_components=0.95, random_state=42, whiten=True)),\n",
       "                (&#x27;svc&#x27;, SVC(class_weight=&#x27;balanced&#x27;))])</pre></div></div></div><div class=\"sk-serial\"><div class=\"sk-item\"><div class=\"sk-serial\"><div class=\"sk-item\"><div class=\"sk-estimator sk-toggleable\"><input class=\"sk-toggleable__control sk-hidden--visually\" id=\"sk-estimator-id-3\" type=\"checkbox\" ><label for=\"sk-estimator-id-3\" class=\"sk-toggleable__label sk-toggleable__label-arrow\">PCA</label><div class=\"sk-toggleable__content\"><pre>PCA(n_components=0.95, random_state=42, whiten=True)</pre></div></div></div><div class=\"sk-item\"><div class=\"sk-estimator sk-toggleable\"><input class=\"sk-toggleable__control sk-hidden--visually\" id=\"sk-estimator-id-4\" type=\"checkbox\" ><label for=\"sk-estimator-id-4\" class=\"sk-toggleable__label sk-toggleable__label-arrow\">SVC</label><div class=\"sk-toggleable__content\"><pre>SVC(class_weight=&#x27;balanced&#x27;)</pre></div></div></div></div></div></div></div></div></div></div></div></div>"
      ],
      "text/plain": [
       "GridSearchCV(cv=2,\n",
       "             estimator=Pipeline(steps=[('pca',\n",
       "                                        PCA(n_components=0.95, random_state=42,\n",
       "                                            whiten=True)),\n",
       "                                       ('svc', SVC(class_weight='balanced'))]),\n",
       "             param_grid={'svc__C': [1, 5, 10],\n",
       "                         'svc__gamma': [0.0005, 0.001, 0.005]},\n",
       "             verbose=2)"
      ]
     },
     "execution_count": 25,
     "metadata": {},
     "output_type": "execute_result"
    }
   ],
   "source": [
    "X = dataset.drop(columns=['HeartDiseaseorAttack'])\n",
    "y = dataset['HeartDiseaseorAttack']\n",
    "\n",
    "X_train, X_test, y_train, y_test = train_test_split(X, y, test_size=0.2, random_state=42)\n",
    "\n",
    "# Creating and Tuning the SVM Model with Grid Search\n",
    "# Define a parameter grid for hyperparameter tuning\n",
    "\n",
    "param_grid = {'svc__C': [1, 5, 10],\n",
    "              'svc__gamma': [0.0005, 0.001, 0.005]}\n",
    "\n",
    "# Apply Principal Component Analysis (PCA) for feature reduction\n",
    "# Retain 95% of the variance, whiten the data, and set a random seed for reproducibility\n",
    "pca = RandomizedPCA(n_components=0.95, whiten=True, random_state=42)\n",
    "# Use balanced class weights to handle imbalanced datasets\n",
    "svm = SVC(kernel='rbf', class_weight='balanced')\n",
    "\n",
    "# Create a pipeline with PCA and SVM\n",
    "model = make_pipeline(pca, svm)\n",
    "\n",
    "# Set up a grid search for hyperparameter tuning\n",
    "# Use cross-validation with 2 folds and print verbose information\n",
    "grid = GridSearchCV(model, param_grid,cv=2, verbose=2)\n",
    "\n",
    "# Measure the time it takes to perform grid search and model fitting\n",
    "%time grid.fit(X_train, y_train)\n"
   ]
  },
  {
   "cell_type": "code",
   "execution_count": 27,
   "id": "8089503d-0523-48c0-92c5-d1356292f4fb",
   "metadata": {},
   "outputs": [
    {
     "name": "stdout",
     "output_type": "stream",
     "text": [
      "{'svc__C': 1, 'svc__gamma': 0.0005}\n"
     ]
    }
   ],
   "source": [
    "# Get the best parameters\n",
    "best_params = grid.best_params_\n",
    "\n",
    "print(best_params)"
   ]
  },
  {
   "cell_type": "code",
   "execution_count": 30,
   "id": "eb1bd533-5736-457e-a1d6-fb39e8230c5b",
   "metadata": {
    "tags": []
   },
   "outputs": [
    {
     "data": {
      "text/html": [
       "<style>#sk-container-id-2 {color: black;}#sk-container-id-2 pre{padding: 0;}#sk-container-id-2 div.sk-toggleable {background-color: white;}#sk-container-id-2 label.sk-toggleable__label {cursor: pointer;display: block;width: 100%;margin-bottom: 0;padding: 0.3em;box-sizing: border-box;text-align: center;}#sk-container-id-2 label.sk-toggleable__label-arrow:before {content: \"▸\";float: left;margin-right: 0.25em;color: #696969;}#sk-container-id-2 label.sk-toggleable__label-arrow:hover:before {color: black;}#sk-container-id-2 div.sk-estimator:hover label.sk-toggleable__label-arrow:before {color: black;}#sk-container-id-2 div.sk-toggleable__content {max-height: 0;max-width: 0;overflow: hidden;text-align: left;background-color: #f0f8ff;}#sk-container-id-2 div.sk-toggleable__content pre {margin: 0.2em;color: black;border-radius: 0.25em;background-color: #f0f8ff;}#sk-container-id-2 input.sk-toggleable__control:checked~div.sk-toggleable__content {max-height: 200px;max-width: 100%;overflow: auto;}#sk-container-id-2 input.sk-toggleable__control:checked~label.sk-toggleable__label-arrow:before {content: \"▾\";}#sk-container-id-2 div.sk-estimator input.sk-toggleable__control:checked~label.sk-toggleable__label {background-color: #d4ebff;}#sk-container-id-2 div.sk-label input.sk-toggleable__control:checked~label.sk-toggleable__label {background-color: #d4ebff;}#sk-container-id-2 input.sk-hidden--visually {border: 0;clip: rect(1px 1px 1px 1px);clip: rect(1px, 1px, 1px, 1px);height: 1px;margin: -1px;overflow: hidden;padding: 0;position: absolute;width: 1px;}#sk-container-id-2 div.sk-estimator {font-family: monospace;background-color: #f0f8ff;border: 1px dotted black;border-radius: 0.25em;box-sizing: border-box;margin-bottom: 0.5em;}#sk-container-id-2 div.sk-estimator:hover {background-color: #d4ebff;}#sk-container-id-2 div.sk-parallel-item::after {content: \"\";width: 100%;border-bottom: 1px solid gray;flex-grow: 1;}#sk-container-id-2 div.sk-label:hover label.sk-toggleable__label {background-color: #d4ebff;}#sk-container-id-2 div.sk-serial::before {content: \"\";position: absolute;border-left: 1px solid gray;box-sizing: border-box;top: 0;bottom: 0;left: 50%;z-index: 0;}#sk-container-id-2 div.sk-serial {display: flex;flex-direction: column;align-items: center;background-color: white;padding-right: 0.2em;padding-left: 0.2em;position: relative;}#sk-container-id-2 div.sk-item {position: relative;z-index: 1;}#sk-container-id-2 div.sk-parallel {display: flex;align-items: stretch;justify-content: center;background-color: white;position: relative;}#sk-container-id-2 div.sk-item::before, #sk-container-id-2 div.sk-parallel-item::before {content: \"\";position: absolute;border-left: 1px solid gray;box-sizing: border-box;top: 0;bottom: 0;left: 50%;z-index: -1;}#sk-container-id-2 div.sk-parallel-item {display: flex;flex-direction: column;z-index: 1;position: relative;background-color: white;}#sk-container-id-2 div.sk-parallel-item:first-child::after {align-self: flex-end;width: 50%;}#sk-container-id-2 div.sk-parallel-item:last-child::after {align-self: flex-start;width: 50%;}#sk-container-id-2 div.sk-parallel-item:only-child::after {width: 0;}#sk-container-id-2 div.sk-dashed-wrapped {border: 1px dashed gray;margin: 0 0.4em 0.5em 0.4em;box-sizing: border-box;padding-bottom: 0.4em;background-color: white;}#sk-container-id-2 div.sk-label label {font-family: monospace;font-weight: bold;display: inline-block;line-height: 1.2em;}#sk-container-id-2 div.sk-label-container {text-align: center;}#sk-container-id-2 div.sk-container {/* jupyter's `normalize.less` sets `[hidden] { display: none; }` but bootstrap.min.css set `[hidden] { display: none !important; }` so we also need the `!important` here to be able to override the default hidden behavior on the sphinx rendered scikit-learn.org. See: https://github.com/scikit-learn/scikit-learn/issues/21755 */display: inline-block !important;position: relative;}#sk-container-id-2 div.sk-text-repr-fallback {display: none;}</style><div id=\"sk-container-id-2\" class=\"sk-top-container\"><div class=\"sk-text-repr-fallback\"><pre>Pipeline(steps=[(&#x27;pca&#x27;, PCA(n_components=0.9)),\n",
       "                (&#x27;svc&#x27;, SVC(C=1, class_weight=&#x27;balanced&#x27;, gamma=0.0005))])</pre><b>In a Jupyter environment, please rerun this cell to show the HTML representation or trust the notebook. <br />On GitHub, the HTML representation is unable to render, please try loading this page with nbviewer.org.</b></div><div class=\"sk-container\" hidden><div class=\"sk-item sk-dashed-wrapped\"><div class=\"sk-label-container\"><div class=\"sk-label sk-toggleable\"><input class=\"sk-toggleable__control sk-hidden--visually\" id=\"sk-estimator-id-5\" type=\"checkbox\" ><label for=\"sk-estimator-id-5\" class=\"sk-toggleable__label sk-toggleable__label-arrow\">Pipeline</label><div class=\"sk-toggleable__content\"><pre>Pipeline(steps=[(&#x27;pca&#x27;, PCA(n_components=0.9)),\n",
       "                (&#x27;svc&#x27;, SVC(C=1, class_weight=&#x27;balanced&#x27;, gamma=0.0005))])</pre></div></div></div><div class=\"sk-serial\"><div class=\"sk-item\"><div class=\"sk-estimator sk-toggleable\"><input class=\"sk-toggleable__control sk-hidden--visually\" id=\"sk-estimator-id-6\" type=\"checkbox\" ><label for=\"sk-estimator-id-6\" class=\"sk-toggleable__label sk-toggleable__label-arrow\">PCA</label><div class=\"sk-toggleable__content\"><pre>PCA(n_components=0.9)</pre></div></div></div><div class=\"sk-item\"><div class=\"sk-estimator sk-toggleable\"><input class=\"sk-toggleable__control sk-hidden--visually\" id=\"sk-estimator-id-7\" type=\"checkbox\" ><label for=\"sk-estimator-id-7\" class=\"sk-toggleable__label sk-toggleable__label-arrow\">SVC</label><div class=\"sk-toggleable__content\"><pre>SVC(C=1, class_weight=&#x27;balanced&#x27;, gamma=0.0005)</pre></div></div></div></div></div></div></div>"
      ],
      "text/plain": [
       "Pipeline(steps=[('pca', PCA(n_components=0.9)),\n",
       "                ('svc', SVC(C=1, class_weight='balanced', gamma=0.0005))])"
      ]
     },
     "execution_count": 30,
     "metadata": {},
     "output_type": "execute_result"
    }
   ],
   "source": [
    "# Create the best model with the best parameters\n",
    "# PCA-SVC Pipeline with the best parameters\n",
    "final_pca_svm_model = make_pipeline(\n",
    "    PCA(n_components=0.9),\n",
    "    SVC(kernel='rbf', class_weight='balanced', C=1,gamma=0.0005)\n",
    ")\n",
    "# Fit the final model\n",
    "final_pca_svm_model.fit(X_train, y_train)"
   ]
  },
  {
   "cell_type": "code",
   "execution_count": 31,
   "id": "9210e962-5b74-41c4-935c-337ac0933758",
   "metadata": {
    "tags": []
   },
   "outputs": [
    {
     "name": "stdout",
     "output_type": "stream",
     "text": [
      "Original data shape: (253680, 21)\n",
      "Transformed data shape (after PCA): (253680, 8)\n",
      "Accuracy of PCA with SVM: 0.7061061179438662\n"
     ]
    }
   ],
   "source": [
    "# Transform the original data using PCA\n",
    "projected = final_pca_svm_model.named_steps['pca'].transform(X)\n",
    "\n",
    "# Print dimensions before and after PCA\n",
    "print(f\"Original data shape: {X.shape}\")\n",
    "print(f\"Transformed data shape (after PCA): {projected.shape}\")\n",
    "# Make predictions on the test set with PCA\n",
    "y_pred_pca = final_pca_svm_model.predict(X_test)\n",
    "\n",
    "# Evaluate the PCA-SVM model\n",
    "accuracy_pca = accuracy_score(y_test, y_pred_pca)\n",
    "print(f\"Accuracy of PCA with SVM: {accuracy_pca}\")"
   ]
  },
  {
   "cell_type": "markdown",
   "id": "98d176ef-06b6-493d-96e3-39489e6dd988",
   "metadata": {},
   "source": [
    "## 4- Evaluating The model"
   ]
  },
  {
   "cell_type": "code",
   "execution_count": 26,
   "id": "b318c725-cfeb-4a92-9fbb-20145e11269b",
   "metadata": {
    "tags": []
   },
   "outputs": [
    {
     "data": {
      "image/png": "[encoded data removed]",
      "text/plain": [
       "<Figure size 800x600 with 1 Axes>"
      ]
     },
     "metadata": {},
     "output_type": "display_data"
    }
   ],
   "source": [
    "from sklearn.metrics import confusion_matrix\n",
    "import matplotlib.pyplot as plt\n",
    "import seaborn as sns\n",
    "\n",
    "\n",
    "# Compute confusion matrix\n",
    "conf_matrix = confusion_matrix(y_test, y_pred_pca)\n",
    "\n",
    "# Normalize the confusion matrix\n",
    "conf_matrix_normalized = conf_matrix / conf_matrix.sum(axis=1, keepdims=True)\n",
    "\n",
    "# Plot the normalized confusion matrix\n",
    "plt.figure(figsize=(8, 6))\n",
    "sns.heatmap(conf_matrix_normalized, annot=True, fmt=\".2f\", cmap=\"Blues\", cbar=False)\n",
    "plt.title(\"Normalized Confusion Matrix\")\n",
    "plt.xlabel(\"Predicted\")\n",
    "plt.ylabel(\"Actual\")\n",
    "plt.show()"
   ]
  },
  {
   "cell_type": "code",
   "execution_count": 28,
   "id": "860e0081-818b-47aa-ad8b-37134f2126a0",
   "metadata": {
    "tags": []
   },
   "outputs": [
    {
     "name": "stdout",
     "output_type": "stream",
     "text": [
      "Classification Report:\n",
      "               precision    recall  f1-score   support\n",
      "\n",
      "     Class 0       0.97      0.70      0.81     45968\n",
      "     Class 1       0.21      0.80      0.34      4768\n",
      "\n",
      "    accuracy                           0.71     50736\n",
      "   macro avg       0.59      0.75      0.57     50736\n",
      "weighted avg       0.90      0.71      0.77     50736\n",
      "\n"
     ]
    }
   ],
   "source": [
    "from sklearn.metrics import classification_report\n",
    "\n",
    "# Assuming you have final_pca_svm_model as your trained model\n",
    "y_pred = final_pca_svm_model.predict(X_test)\n",
    "\n",
    "# Compute classification report\n",
    "report = classification_report(y_test, y_pred_pca, target_names=['Class 0', 'Class 1'])\n",
    "\n",
    "# Print the classification report\n",
    "print(\"Classification Report:\\n\", report)"
   ]
  },
  {
   "cell_type": "code",
   "execution_count": 38,
   "id": "8f854f39-9020-4344-9eae-92a360f1575e",
   "metadata": {
    "tags": []
   },
   "outputs": [
    {
     "data": {
      "image/png": "[encoded data removed]",
      "text/plain": [
       "<Figure size 800x600 with 1 Axes>"
      ]
     },
     "metadata": {},
     "output_type": "display_data"
    }
   ],
   "source": [
    "# Plot the ROC curve\n",
    "from sklearn.metrics import roc_curve, auc\n",
    "y_score = final_pca_svm_model.decision_function(X_test)\n",
    "fpr, tpr, _ = roc_curve(y_test, y_score)\n",
    "roc_auc = auc(fpr, tpr)\n",
    "\n",
    "plt.figure(figsize=(8, 6))\n",
    "plt.plot(fpr, tpr, color='darkorange', lw=2, label='ROC curve (AUC = {:.2f})'.format(roc_auc))\n",
    "plt.plot([0, 1], [0, 1], color='navy', lw=2, linestyle='--')\n",
    "plt.xlim([0.0, 1.0])\n",
    "plt.ylim([0.0, 1.05])\n",
    "plt.xlabel('False Positive Rate')\n",
    "plt.ylabel('True Positive Rate')\n",
    "plt.title('Receiver Operating Characteristic (ROC) Curve')\n",
    "plt.legend(loc='lower right')\n",
    "plt.show()"
   ]
  }
 ],
 "metadata": {
  "kernelspec": {
   "display_name": "Python 3 (ipykernel)",
   "language": "python",
   "name": "python3"
  },
  "language_info": {
   "codemirror_mode": {
    "name": "ipython",
    "version": 3
   },
   "file_extension": ".py",
   "mimetype": "text/x-python",
   "name": "python",
   "nbconvert_exporter": "python",
   "pygments_lexer": "ipython3",
   "version": "3.11.5"
  }
 },
 "nbformat": 4,
 "nbformat_minor": 5
}
